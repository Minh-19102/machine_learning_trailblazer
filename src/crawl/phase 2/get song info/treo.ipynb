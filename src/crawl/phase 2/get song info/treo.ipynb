{
 "cells": [
  {
   "cell_type": "code",
   "execution_count": null,
   "id": "70264a39-87a2-457b-84a6-ff61d5ea3f1f",
   "metadata": {
    "is_executing": true
   },
   "outputs": [],
   "source": [
    "import json\n",
    "import os\n",
    "import pandas as pd\n",
    "import time\n",
    "import spotipy\n",
    "from spotipy.oauth2 import SpotifyClientCredentials\n",
    "from IPython.display import clear_output"
   ]
  },
  {
   "cell_type": "code",
   "execution_count": 7,
   "id": "4194e2b7-312e-4bd0-a842-ffcf381a8964",
   "metadata": {},
   "outputs": [],
   "source": [
    "## Điền vào đây\n",
    "client_id = \"00643d1b803a42e394b3ad5ab1d25301\"  \n",
    "client_secret = \"8fd4f17a06f342a3a7f639b9f8e02dfe\""
   ]
  },
  {
   "cell_type": "code",
   "execution_count": 8,
   "id": "30cba1a4-e23e-40a6-bae4-8159fc60f565",
   "metadata": {},
   "outputs": [],
   "source": [
    "client_credentials_manager = SpotifyClientCredentials(client_id=client_id, client_secret=client_secret)\n",
    "sp = spotipy.Spotify(client_credentials_manager=client_credentials_manager)\n",
    "def get_track_feature(track_id_array):\n",
    "    return sp.audio_features(track_id_array)"
   ]
  },
  {
   "cell_type": "code",
   "execution_count": 9,
   "id": "3baa285b-2c43-4cb8-9003-8adbb92c1f0c",
   "metadata": {
    "scrolled": true
   },
   "outputs": [
    {
     "name": "stderr",
     "output_type": "stream",
     "text": [
      "C:\\Users\\Admin\\AppData\\Local\\Temp\\ipykernel_24520\\736842657.py:1: DtypeWarning: Columns (2,3) have mixed types. Specify dtype option on import or set low_memory=False.\n",
      "  filter_data = pd.read_csv(\"../../../handle/song_data.csv\")\n"
     ]
    }
   ],
   "source": [
    "\n",
    "filter_data = pd.read_csv(\"../../../handle/song_data.csv\")\n",
    "update_data = filter_data[filter_data['danceability'].isnull()]\n",
    "link_arr = list(update_data[\"spotify_link\"])\n",
    "parts = [link_arr[i:i+50] for i in range(0, len(link_arr), 50)]\n"
   ]
  },
  {
   "cell_type": "code",
   "execution_count": 10,
   "id": "801c2cd4-e8c5-4fa6-bb2a-9a142fa0fd53",
   "metadata": {},
   "outputs": [
    {
     "name": "stdout",
     "output_type": "stream",
     "text": [
      "1999\n"
     ]
    },
    {
     "name": "stderr",
     "output_type": "stream",
     "text": [
      "Max Retries reached\n"
     ]
    },
    {
     "name": "stdout",
     "output_type": "stream",
     "text": [
      "An error occurred: http status: 429, code:-1 - /v1/audio-features/?ids=60oIQLIzRDy7jXASNX5Ix6,7o4vqu8A6Y01XoX4F2D7zo,3fkxYKo0Vq3uynItWEHogm,1nUI5XCjwiVc2kefbz8L3C,4Viub0m9e8EI0415ICCZB0,0bMJ0h8OCsHXEXtqmnJlm0,0NgMPHAl54UN9XrKGH6sFJ,0RfNss0pX8UmaPWr5WsKM2,0RfNss0pX8UmaPWr5WsKM2,4JXwo0Q6XQPKtC4ACbPi8t,2lY8Q0LB4ds8yQQ54fmHdT,6iWSlkckwJyzGDkEX8pNqg,4Pe3LGd5qy3KwmKCbiIsKR,17W5uFdictRAx0pVVxaQe6,6Np34BSo4JE7yl7tABbYoM,0oaRm4BkQyCgyhsMSVilYz,4gdqihSZKMs4l72HXNmwXY,16uTcNIZ0zKgJDQ9dX1Ke9,7xktiByYleckF9Awi7D3B9,2SH6wha9tgm3FaynSq4kne,7hEWsWajkW0qb2oYHMmPzj,0fJ6eJwLmpuPfhaZJwrYS2,3xtvd7QhQf4N968a29e1O0,3xtvd7QhQf4N968a29e1O0,6435ttqDigWL7w4zirJC84,10IpQuIIaKlGr00sw6oZ9r,6j3fuoeDBNV0H8N85u6O91,1h8SFz131kdIxvxxDW3M39,2JKgHnXIfjZFv95yHOXO2e,72Q27eXbIzehy1Q4uN1Ke8,2m0WHvTdoN0rPs2P5wK7OC,3LctKqWFLjftXoIlUb5MLg,4DHY7CjL5BDKmP2QJhZrTC,2aLyq4BFig5FadA8EwtkFy,0L4vXxz212JRxQbJmmr0gu,02SHhIbDoIK6V1h4OiYld8,4EcyN2nZTxjroigeSKOPzb,58r0EiBBjax5J0U2w2B7fS,3wOvcsL8tSDltGBTqz3xJn,0MiBAqwNs44h3Ps3zv7Jzt,1X7A5quOkdg41hoqzgG9Wh,4o3nY0pi5BGfnJtIUCIgba,144dK0yRRpDNZkzs731l9e,6Csall4X1K1hfJEvzQzHzp,7G6wzkkkPRIpfaaArBszXu,1wVJluBvHJBrh9CTkghjbi,1HxYdOXPH84u98K3076o9k,0gdktKlTodz7h4mYjNwpPl,3W17Ka3fEeGnrJkxcpS5DI,0FbAZWEN2PSX0lw42jB8gs:\n",
      " Max Retries, reason: too many 429 error responses\n"
     ]
    }
   ],
   "source": [
    "fetch_data = []\n",
    "for id, part in enumerate(parts):\n",
    "###### 1:\n",
    "    if id < 1999 or id > 3500:\n",
    "        continue\n",
    "########\n",
    "    try:\n",
    "        print(id)\n",
    "        fetch_data.append(get_track_feature(part))\n",
    "        clear_output(wait=True)\n",
    "    except Exception as e:\n",
    "        print(f\"An error occurred: {e}\")  \n",
    "        break\n",
    "fetch_data = [x for xs in fetch_data for x in xs]"
   ]
  },
  {
   "cell_type": "code",
   "execution_count": 14,
   "id": "ab07f47c-5a94-42cf-b7a8-c5534d7c4ce3",
   "metadata": {},
   "outputs": [],
   "source": [
    "for id, feature_dict in enumerate(fetch_data):\n",
    "    try:\n",
    "        print(f'{id}/{len(fetch_data)}')\n",
    "        track_id = feature_dict['id']\n",
    "        matching_row = update_data[update_data['spotify_link'] == track_id]\n",
    "        if not matching_row.empty:\n",
    "            common_features = set(update_data.columns) & set(feature_dict.keys())\n",
    "            for feature in common_features:\n",
    "                if feature != 'id':\n",
    "                    update_data.loc[matching_row.index, feature] = feature_dict[feature]\n",
    "    except TypeError as e:\n",
    "        print(f\"Caught a TypeError: {e}\") \n",
    "        continue\n",
    "    except Exception as e:\n",
    "        print(f\"An error occurred: {e}\")\n",
    "        continue\n",
    "    clear_output(wait=True)\n",
    "update_data.to_csv('../../../handle/song_data3.csv', index=False)\n"
   ]
  },
  {
   "cell_type": "code",
   "execution_count": 15,
   "id": "c9c9d2a3-5fff-4c7e-a025-f46dcca0ccc1",
   "metadata": {},
   "outputs": [
    {
     "name": "stdout",
     "output_type": "stream",
     "text": [
      "5566\n"
     ]
    },
    {
     "data": {
      "text/plain": [
       "[]"
      ]
     },
     "execution_count": 15,
     "metadata": {},
     "output_type": "execute_result"
    }
   ],
   "source": [
    "print (len(parts))\n",
    "fetch_data[0:5]"
   ]
  },
  {
   "cell_type": "code",
   "execution_count": null,
   "id": "623cb4ae-8d6b-4379-b7bc-9cdf3fe8c459",
   "metadata": {},
   "outputs": [],
   "source": []
  }
 ],
 "metadata": {
  "kernelspec": {
   "display_name": "Python 3 (ipykernel)",
   "language": "python",
   "name": "python3"
  },
  "language_info": {
   "codemirror_mode": {
    "name": "ipython",
    "version": 3
   },
   "file_extension": ".py",
   "mimetype": "text/x-python",
   "name": "python",
   "nbconvert_exporter": "python",
   "pygments_lexer": "ipython3",
   "version": "3.12.0"
  }
 },
 "nbformat": 4,
 "nbformat_minor": 5
}
