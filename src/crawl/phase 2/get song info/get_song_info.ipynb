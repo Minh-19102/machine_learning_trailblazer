{
 "cells": [
  {
   "cell_type": "code",
   "execution_count": 44,
   "id": "73d3a9dc-0a7c-45cb-b1e3-8b5068fd2466",
   "metadata": {},
   "outputs": [],
   "source": [
    "import json\n",
    "import os\n",
    "import pandas as pd\n",
    "import time\n",
    "import spotipy\n",
    "from spotipy.oauth2 import SpotifyClientCredentials\n",
    "from ytmusicapi import YTMusic"
   ]
  },
  {
   "cell_type": "markdown",
   "id": "e0b46eaf-77bf-4811-ac3d-347bde100a84",
   "metadata": {},
   "source": [
    "## Setup YT music API \n",
    "### Bước 1:\n",
    "- Bật 1 cửa sổ terminal mới, vào virtual environment\n",
    "- Gõ lệnh `ytmusicapi oauth`\n",
    "### Bước 2: \n",
    "- Đăng nhập bằng tài khoản google, nó sẽ tạo ra 1 file `oauth.json`\n",
    "### Bước 3:\n",
    "- Copy file `oath.json` vào folder gốc\n",
    "## Setup spotify developer API\n",
    "### Bước 1:\n",
    "- Truy cập [dashboard](https://developer.spotify.com/dashboard)\n",
    "- Tạo 1 project bất kỳ (thường thì phải chờ 24h mới nhận được token)\n",
    "### Bước 2:\n",
    "- Copy client_id và client_secret vào cell dưới\n"
   ]
  },
  {
   "cell_type": "code",
   "execution_count": 45,
   "id": "ced40933-942d-49c0-aeb1-5287f02b6b1f",
   "metadata": {},
   "outputs": [],
   "source": [
    "client_id = \"\"\n",
    "client_secret = \"\"\n",
    "currentFolder = \"./src/crawl/phase 2/get song info/\""
   ]
  },
  {
   "cell_type": "code",
   "execution_count": 46,
   "id": "f351ee9b-c259-4a99-990e-a8a38efdfdcb",
   "metadata": {},
   "outputs": [],
   "source": [
    "ytmusic = YTMusic()\n",
    "ytmusic = YTMusic(\"oauth.json\")"
   ]
  },
  {
   "cell_type": "code",
   "execution_count": 47,
   "id": "ce10c937-1924-4f23-a537-7846f3752cde",
   "metadata": {},
   "outputs": [],
   "source": [
    "client_credentials_manager = SpotifyClientCredentials(client_id=client_id, client_secret=client_secret)\n",
    "sp = spotipy.Spotify(client_credentials_manager=client_credentials_manager)\n",
    "def get_track_feature(track_id):\n",
    "    features = sp.audio_features([track_id])\n",
    "    track_features = features[0]\n",
    "    return track_features"
   ]
  },
  {
   "cell_type": "code",
   "execution_count": 48,
   "id": "d1bf0de4-4f67-4635-b31c-22262244a946",
   "metadata": {},
   "outputs": [],
   "source": [
    "dt1 = pd.read_csv(currentFolder + 'songData0-100.csv')"
   ]
  },
  {
   "cell_type": "code",
   "execution_count": 49,
   "id": "51fdca7c-45ba-4cc6-9e3a-265ae220e864",
   "metadata": {},
   "outputs": [
    {
     "data": {
      "text/html": [
       "<div>\n",
       "<style scoped>\n",
       "    .dataframe tbody tr th:only-of-type {\n",
       "        vertical-align: middle;\n",
       "    }\n",
       "\n",
       "    .dataframe tbody tr th {\n",
       "        vertical-align: top;\n",
       "    }\n",
       "\n",
       "    .dataframe thead th {\n",
       "        text-align: right;\n",
       "    }\n",
       "</style>\n",
       "<table border=\"1\" class=\"dataframe\">\n",
       "  <thead>\n",
       "    <tr style=\"text-align: right;\">\n",
       "      <th></th>\n",
       "      <th>title</th>\n",
       "      <th>artist</th>\n",
       "      <th>area</th>\n",
       "      <th>youtube_link</th>\n",
       "      <th>spotify_link</th>\n",
       "      <th>release_date</th>\n",
       "      <th>youtube_view_count</th>\n",
       "      <th>youtube_like_count</th>\n",
       "      <th>tag</th>\n",
       "      <th>duration</th>\n",
       "      <th>popularity</th>\n",
       "      <th>danceability</th>\n",
       "      <th>energy</th>\n",
       "      <th>speechiness</th>\n",
       "      <th>acousticness</th>\n",
       "      <th>instrumentalness</th>\n",
       "      <th>liveness</th>\n",
       "      <th>valence</th>\n",
       "      <th>loudness</th>\n",
       "      <th>tempo</th>\n",
       "    </tr>\n",
       "  </thead>\n",
       "  <tbody>\n",
       "    <tr>\n",
       "      <th>0</th>\n",
       "      <td>Stop For A Minute</td>\n",
       "      <td>\"#Botsu\"</td>\n",
       "      <td>JP</td>\n",
       "      <td>https://www.youtube.com/watch?v=zI9C9j0QgU4</td>\n",
       "      <td>NaN</td>\n",
       "      <td>NaN</td>\n",
       "      <td>14025554.0</td>\n",
       "      <td>82830.0</td>\n",
       "      <td>NaN</td>\n",
       "      <td>NaN</td>\n",
       "      <td>NaN</td>\n",
       "      <td>NaN</td>\n",
       "      <td>NaN</td>\n",
       "      <td>NaN</td>\n",
       "      <td>NaN</td>\n",
       "      <td>NaN</td>\n",
       "      <td>NaN</td>\n",
       "      <td>NaN</td>\n",
       "      <td>NaN</td>\n",
       "      <td>NaN</td>\n",
       "    </tr>\n",
       "    <tr>\n",
       "      <th>1</th>\n",
       "      <td>(darude) sandstorm (original mix)[www homeofmu...</td>\n",
       "      <td>\"#Botsu\"</td>\n",
       "      <td>JP</td>\n",
       "      <td>https://www.youtube.com/watch?v=61-PXrbs4MA</td>\n",
       "      <td>https://open.spotify.com/track/2lylyZl9S7rbp2F...</td>\n",
       "      <td>NaN</td>\n",
       "      <td>4811528.0</td>\n",
       "      <td>44569.0</td>\n",
       "      <td>NaN</td>\n",
       "      <td>NaN</td>\n",
       "      <td>NaN</td>\n",
       "      <td>NaN</td>\n",
       "      <td>NaN</td>\n",
       "      <td>NaN</td>\n",
       "      <td>NaN</td>\n",
       "      <td>NaN</td>\n",
       "      <td>NaN</td>\n",
       "      <td>NaN</td>\n",
       "      <td>NaN</td>\n",
       "      <td>NaN</td>\n",
       "    </tr>\n",
       "    <tr>\n",
       "      <th>2</th>\n",
       "      <td>20 Titelnummer 20</td>\n",
       "      <td>\"#Botsu\"</td>\n",
       "      <td>JP</td>\n",
       "      <td>https://www.youtube.com/watch?v=4aM5RYx3-LU</td>\n",
       "      <td>NaN</td>\n",
       "      <td>NaN</td>\n",
       "      <td>5.0</td>\n",
       "      <td>1.0</td>\n",
       "      <td>NaN</td>\n",
       "      <td>NaN</td>\n",
       "      <td>NaN</td>\n",
       "      <td>NaN</td>\n",
       "      <td>NaN</td>\n",
       "      <td>NaN</td>\n",
       "      <td>NaN</td>\n",
       "      <td>NaN</td>\n",
       "      <td>NaN</td>\n",
       "      <td>NaN</td>\n",
       "      <td>NaN</td>\n",
       "      <td>NaN</td>\n",
       "    </tr>\n",
       "    <tr>\n",
       "      <th>3</th>\n",
       "      <td>The Shirelles - Mamma Said</td>\n",
       "      <td>\"#Botsu\"</td>\n",
       "      <td>JP</td>\n",
       "      <td>https://www.youtube.com/watch?v=L842mz-tNBQ</td>\n",
       "      <td>NaN</td>\n",
       "      <td>NaN</td>\n",
       "      <td>4316508.0</td>\n",
       "      <td>51113.0</td>\n",
       "      <td>NaN</td>\n",
       "      <td>NaN</td>\n",
       "      <td>NaN</td>\n",
       "      <td>NaN</td>\n",
       "      <td>NaN</td>\n",
       "      <td>NaN</td>\n",
       "      <td>NaN</td>\n",
       "      <td>NaN</td>\n",
       "      <td>NaN</td>\n",
       "      <td>NaN</td>\n",
       "      <td>NaN</td>\n",
       "      <td>NaN</td>\n",
       "    </tr>\n",
       "    <tr>\n",
       "      <th>4</th>\n",
       "      <td>Thaw</td>\n",
       "      <td>\"#Botsu\"</td>\n",
       "      <td>JP</td>\n",
       "      <td>NaN</td>\n",
       "      <td>NaN</td>\n",
       "      <td>NaN</td>\n",
       "      <td>NaN</td>\n",
       "      <td>NaN</td>\n",
       "      <td>NaN</td>\n",
       "      <td>NaN</td>\n",
       "      <td>NaN</td>\n",
       "      <td>NaN</td>\n",
       "      <td>NaN</td>\n",
       "      <td>NaN</td>\n",
       "      <td>NaN</td>\n",
       "      <td>NaN</td>\n",
       "      <td>NaN</td>\n",
       "      <td>NaN</td>\n",
       "      <td>NaN</td>\n",
       "      <td>NaN</td>\n",
       "    </tr>\n",
       "  </tbody>\n",
       "</table>\n",
       "</div>"
      ],
      "text/plain": [
       "                                               title    artist area  \\\n",
       "0                                  Stop For A Minute  \"#Botsu\"   JP   \n",
       "1  (darude) sandstorm (original mix)[www homeofmu...  \"#Botsu\"   JP   \n",
       "2                                  20 Titelnummer 20  \"#Botsu\"   JP   \n",
       "3                         The Shirelles - Mamma Said  \"#Botsu\"   JP   \n",
       "4                                               Thaw  \"#Botsu\"   JP   \n",
       "\n",
       "                                  youtube_link  \\\n",
       "0  https://www.youtube.com/watch?v=zI9C9j0QgU4   \n",
       "1  https://www.youtube.com/watch?v=61-PXrbs4MA   \n",
       "2  https://www.youtube.com/watch?v=4aM5RYx3-LU   \n",
       "3  https://www.youtube.com/watch?v=L842mz-tNBQ   \n",
       "4                                          NaN   \n",
       "\n",
       "                                        spotify_link  release_date  \\\n",
       "0                                                NaN           NaN   \n",
       "1  https://open.spotify.com/track/2lylyZl9S7rbp2F...           NaN   \n",
       "2                                                NaN           NaN   \n",
       "3                                                NaN           NaN   \n",
       "4                                                NaN           NaN   \n",
       "\n",
       "   youtube_view_count  youtube_like_count  tag  duration  popularity  \\\n",
       "0          14025554.0             82830.0  NaN       NaN         NaN   \n",
       "1           4811528.0             44569.0  NaN       NaN         NaN   \n",
       "2                 5.0                 1.0  NaN       NaN         NaN   \n",
       "3           4316508.0             51113.0  NaN       NaN         NaN   \n",
       "4                 NaN                 NaN  NaN       NaN         NaN   \n",
       "\n",
       "   danceability  energy  speechiness  acousticness  instrumentalness  \\\n",
       "0           NaN     NaN          NaN           NaN               NaN   \n",
       "1           NaN     NaN          NaN           NaN               NaN   \n",
       "2           NaN     NaN          NaN           NaN               NaN   \n",
       "3           NaN     NaN          NaN           NaN               NaN   \n",
       "4           NaN     NaN          NaN           NaN               NaN   \n",
       "\n",
       "   liveness  valence  loudness  tempo  \n",
       "0       NaN      NaN       NaN    NaN  \n",
       "1       NaN      NaN       NaN    NaN  \n",
       "2       NaN      NaN       NaN    NaN  \n",
       "3       NaN      NaN       NaN    NaN  \n",
       "4       NaN      NaN       NaN    NaN  "
      ]
     },
     "execution_count": 49,
     "metadata": {},
     "output_type": "execute_result"
    }
   ],
   "source": [
    "dt1.head()"
   ]
  },
  {
   "cell_type": "code",
   "execution_count": null,
   "id": "724bad94-5c02-475b-883c-a2223b17c82b",
   "metadata": {},
   "outputs": [],
   "source": [
    "q = f\"artist:{\"Taylor swift\"} track:{\"Blank space\"}\"\n",
    "res = sp.search(q, limit=5, offset=0, type='track', market=\"US\")"
   ]
  },
  {
   "cell_type": "code",
   "execution_count": 35,
   "id": "452f3712-f4a4-4a47-a3b8-b537e5d40a31",
   "metadata": {},
   "outputs": [
    {
     "data": {
      "text/plain": [
       "'artist:Taylor swift track:Blank space'"
      ]
     },
     "execution_count": 35,
     "metadata": {},
     "output_type": "execute_result"
    }
   ],
   "source": [
    "q"
   ]
  },
  {
   "cell_type": "code",
   "execution_count": 43,
   "id": "febe33c4-51c1-4e49-b7f8-bf57d5764c63",
   "metadata": {},
   "outputs": [
    {
     "name": "stdout",
     "output_type": "stream",
     "text": [
      "1p80LdxRV74UKvL8gnD7ky\n",
      "45wMBGri1PORPjM9PwFfrS\n",
      "0108kcWLnn2HlH2kedi1gn\n",
      "2sC2P3BN0IXujNaaSyDmtP\n",
      "1kHEuJRasudLhjvnbfc4yS\n"
     ]
    }
   ],
   "source": [
    "for trackinfo in res[\"tracks\"][\"items\"]:\n",
    "    print(trackinfo[\"id\"])"
   ]
  },
  {
   "cell_type": "code",
   "execution_count": null,
   "id": "6574d990-f108-44c8-92ae-4e36f11ee759",
   "metadata": {},
   "outputs": [],
   "source": []
  }
 ],
 "metadata": {
  "kernelspec": {
   "display_name": "Python 3 (ipykernel)",
   "language": "python",
   "name": "python3"
  },
  "language_info": {
   "codemirror_mode": {
    "name": "ipython",
    "version": 3
   },
   "file_extension": ".py",
   "mimetype": "text/x-python",
   "name": "python",
   "nbconvert_exporter": "python",
   "pygments_lexer": "ipython3",
   "version": "3.10.11"
  }
 },
 "nbformat": 4,
 "nbformat_minor": 5
}
